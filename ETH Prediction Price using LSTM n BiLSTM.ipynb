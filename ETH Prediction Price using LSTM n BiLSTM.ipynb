{
 "cells": [
  {
   "cell_type": "markdown",
   "metadata": {
    "id": "ryfHkoJeryj_"
   },
   "source": [
    "**PREDIKSI HARGA CRYPTOCURRENCY ETHEREUM MENGGUNAKAN ALGORITMA DEEP LEARNING.**"
   ]
  },
  {
   "cell_type": "markdown",
   "metadata": {
    "id": "LLaLvcFHwWZC"
   },
   "source": [
    "**LATAR BELAKANG**"
   ]
  },
  {
   "cell_type": "markdown",
   "metadata": {
    "id": "RPKYqflpv54z"
   },
   "source": [
    "\n",
    "\n",
    "*   Cryptocurrency saat ini telah menjadi trend investasi aset digital yang menarik minat masyarakat karena dapat memberikan keuntungan tinggi.\n",
    "Salah satu asset crypto terbaik selain bitcoin adalah Ethereum, yg merupakan salah satu uang digital terdesentralisasi, yang pada umumnya disebut dengan Ether / (ETH).\n",
    "*   Risiko dalam berinvestasi crypto adalah ketidakpastian di masa mendatang karena teknologi crypto yang tergolong masih baru, ditambah fluktuasi harga yang sangat tinggi yang dapat menyulitkan para investor dalam memprediksi naik atau turunnya harga crypto di masa yang akan datang. \n",
    "*   Tentunya dalam melakukan suatu prediksi sangat dibutuhkannya suatu analisa dalam menentukan model arsitektur yang tepat agar hasil yang didapatkan bisa seoptimal mungkin.\n",
    "\n",
    "\n",
    "\n"
   ]
  },
  {
   "cell_type": "markdown",
   "metadata": {
    "id": "dSxYbp04whwT"
   },
   "source": [
    "**DATASET ETH**"
   ]
  },
  {
   "cell_type": "markdown",
   "metadata": {
    "id": "-IyzQWw6wk0h"
   },
   "source": [
    "Dataset ini diperoleh dari situs website Yahoo Finance dengan kode ETH-USD per November 2017 - September 2022. Tujuannya adalah untuk membuat forecasting data dengan menggunakan algortima deep learning yaitu LSTM dan Bidirectional LSTM terkait harga dari Crytocurrency Ethereum."
   ]
  },
  {
   "cell_type": "markdown",
   "metadata": {
    "id": "r4w_eaCHsgmk"
   },
   "source": [
    "**1. IMPORT LIBRARY**"
   ]
  },
  {
   "cell_type": "code",
   "execution_count": 1,
   "metadata": {
    "id": "gXms2ZRtpj0N"
   },
   "outputs": [],
   "source": [
    "# Library Pendukung\n",
    "import pandas as pd\n",
    "import numpy as np\n",
    "import matplotlib.pyplot as plt\n",
    "import seaborn as sns\n",
    "\n",
    "# Preprocessing \n",
    "from sklearn.preprocessing import MinMaxScaler\n",
    "\n",
    "# Model Arsitektur Library\n",
    "from tensorflow.keras.models import Sequential\n",
    "from tensorflow.keras.layers import LSTM, Bidirectional\n",
    "from tensorflow.keras.layers import Dropout, Dense \n",
    "from tensorflow.keras.optimizers import Adam\n",
    "from tensorflow.keras import initializers\n",
    "\n",
    "# Model Evaluation\n",
    "import math\n",
    "from sklearn.metrics import mean_squared_error\n",
    "\n",
    "# Ignore Warning Notification\n",
    "import warnings \n",
    "warnings.filterwarnings('ignore')\n",
    "%matplotlib inline"
   ]
  },
  {
   "cell_type": "markdown",
   "metadata": {
    "id": "XUsQ1g02w3UG"
   },
   "source": [
    "**2. LOAD DATASET**"
   ]
  },
  {
   "cell_type": "code",
   "execution_count": 2,
   "metadata": {
    "colab": {
     "base_uri": "https://localhost:8080/",
     "height": 206
    },
    "id": "D0RJtr5xreMx",
    "outputId": "eaf738ca-b140-471a-b8a5-1270caf7ab44"
   },
   "outputs": [
    {
     "data": {
      "text/html": [
       "<div>\n",
       "<style scoped>\n",
       "    .dataframe tbody tr th:only-of-type {\n",
       "        vertical-align: middle;\n",
       "    }\n",
       "\n",
       "    .dataframe tbody tr th {\n",
       "        vertical-align: top;\n",
       "    }\n",
       "\n",
       "    .dataframe thead th {\n",
       "        text-align: right;\n",
       "    }\n",
       "</style>\n",
       "<table border=\"1\" class=\"dataframe\">\n",
       "  <thead>\n",
       "    <tr style=\"text-align: right;\">\n",
       "      <th></th>\n",
       "      <th>Date</th>\n",
       "      <th>Open</th>\n",
       "      <th>High</th>\n",
       "      <th>Low</th>\n",
       "      <th>Close</th>\n",
       "      <th>Adj Close</th>\n",
       "      <th>Volume</th>\n",
       "    </tr>\n",
       "  </thead>\n",
       "  <tbody>\n",
       "    <tr>\n",
       "      <th>1782</th>\n",
       "      <td>2022-09-26</td>\n",
       "      <td>1294.386108</td>\n",
       "      <td>1335.526367</td>\n",
       "      <td>1282.049316</td>\n",
       "      <td>1335.320190</td>\n",
       "      <td>1335.320190</td>\n",
       "      <td>16034549271</td>\n",
       "    </tr>\n",
       "    <tr>\n",
       "      <th>1783</th>\n",
       "      <td>2022-09-27</td>\n",
       "      <td>1335.337036</td>\n",
       "      <td>1396.891479</td>\n",
       "      <td>1308.991455</td>\n",
       "      <td>1330.127686</td>\n",
       "      <td>1330.127686</td>\n",
       "      <td>17870598937</td>\n",
       "    </tr>\n",
       "    <tr>\n",
       "      <th>1784</th>\n",
       "      <td>2022-09-28</td>\n",
       "      <td>1329.541382</td>\n",
       "      <td>1351.964478</td>\n",
       "      <td>1267.869263</td>\n",
       "      <td>1337.410889</td>\n",
       "      <td>1337.410889</td>\n",
       "      <td>18994979566</td>\n",
       "    </tr>\n",
       "    <tr>\n",
       "      <th>1785</th>\n",
       "      <td>2022-09-29</td>\n",
       "      <td>1337.554443</td>\n",
       "      <td>1348.107666</td>\n",
       "      <td>1293.193359</td>\n",
       "      <td>1335.652344</td>\n",
       "      <td>1335.652344</td>\n",
       "      <td>13796915736</td>\n",
       "    </tr>\n",
       "    <tr>\n",
       "      <th>1786</th>\n",
       "      <td>2022-09-30</td>\n",
       "      <td>1335.646484</td>\n",
       "      <td>1368.743408</td>\n",
       "      <td>1320.383179</td>\n",
       "      <td>1327.978638</td>\n",
       "      <td>1327.978638</td>\n",
       "      <td>14250100093</td>\n",
       "    </tr>\n",
       "  </tbody>\n",
       "</table>\n",
       "</div>"
      ],
      "text/plain": [
       "            Date         Open         High          Low        Close  \\\n",
       "1782  2022-09-26  1294.386108  1335.526367  1282.049316  1335.320190   \n",
       "1783  2022-09-27  1335.337036  1396.891479  1308.991455  1330.127686   \n",
       "1784  2022-09-28  1329.541382  1351.964478  1267.869263  1337.410889   \n",
       "1785  2022-09-29  1337.554443  1348.107666  1293.193359  1335.652344   \n",
       "1786  2022-09-30  1335.646484  1368.743408  1320.383179  1327.978638   \n",
       "\n",
       "        Adj Close       Volume  \n",
       "1782  1335.320190  16034549271  \n",
       "1783  1330.127686  17870598937  \n",
       "1784  1337.410889  18994979566  \n",
       "1785  1335.652344  13796915736  \n",
       "1786  1327.978638  14250100093  "
      ]
     },
     "execution_count": 2,
     "metadata": {},
     "output_type": "execute_result"
    }
   ],
   "source": [
    "eth = pd.read_csv(\"ETH-30-SEP-2022.csv\", engine='python')\n",
    "eth.tail(5)"
   ]
  },
  {
   "cell_type": "code",
   "execution_count": 3,
   "metadata": {
    "id": "XbcG7pQ7rkz0"
   },
   "outputs": [],
   "source": [
    "# Memisahkan kolom Date sebagai variabel untuk hari berikutnya\n",
    "date_df = pd.to_datetime(eth['Date'])"
   ]
  },
  {
   "cell_type": "markdown",
   "metadata": {
    "id": "Ju2J37Cxw9af"
   },
   "source": [
    "**3. EXPLORATORY DATA ANALYSIS**"
   ]
  },
  {
   "cell_type": "markdown",
   "metadata": {
    "id": "Xn5ksNQpxGMV"
   },
   "source": [
    "**INFORMASI DATASET**"
   ]
  },
  {
   "cell_type": "code",
   "execution_count": 4,
   "metadata": {
    "colab": {
     "base_uri": "https://localhost:8080/"
    },
    "id": "x-Zi6oW9saQ4",
    "outputId": "877b8777-3509-400b-f63e-3ec135642fa3"
   },
   "outputs": [
    {
     "name": "stdout",
     "output_type": "stream",
     "text": [
      "<class 'pandas.core.frame.DataFrame'>\n",
      "RangeIndex: 1787 entries, 0 to 1786\n",
      "Data columns (total 7 columns):\n",
      " #   Column     Non-Null Count  Dtype  \n",
      "---  ------     --------------  -----  \n",
      " 0   Date       1787 non-null   object \n",
      " 1   Open       1787 non-null   float64\n",
      " 2   High       1787 non-null   float64\n",
      " 3   Low        1787 non-null   float64\n",
      " 4   Close      1787 non-null   float64\n",
      " 5   Adj Close  1787 non-null   float64\n",
      " 6   Volume     1787 non-null   int64  \n",
      "dtypes: float64(5), int64(1), object(1)\n",
      "memory usage: 97.9+ KB\n"
     ]
    }
   ],
   "source": [
    "# Informasi Dataset dan Tipe Data\n",
    "eth.info()"
   ]
  },
  {
   "cell_type": "markdown",
   "metadata": {
    "id": "bVDOkqBsxIVr"
   },
   "source": [
    "**STATISTIK DESKRIPTIF DATA**"
   ]
  },
  {
   "cell_type": "code",
   "execution_count": 5,
   "metadata": {
    "colab": {
     "base_uri": "https://localhost:8080/",
     "height": 300
    },
    "id": "23reHcmtsaTW",
    "outputId": "7c63a104-c4f4-490f-c3ac-7c8492d3cd92"
   },
   "outputs": [
    {
     "data": {
      "text/html": [
       "<div>\n",
       "<style scoped>\n",
       "    .dataframe tbody tr th:only-of-type {\n",
       "        vertical-align: middle;\n",
       "    }\n",
       "\n",
       "    .dataframe tbody tr th {\n",
       "        vertical-align: top;\n",
       "    }\n",
       "\n",
       "    .dataframe thead th {\n",
       "        text-align: right;\n",
       "    }\n",
       "</style>\n",
       "<table border=\"1\" class=\"dataframe\">\n",
       "  <thead>\n",
       "    <tr style=\"text-align: right;\">\n",
       "      <th></th>\n",
       "      <th>Open</th>\n",
       "      <th>High</th>\n",
       "      <th>Low</th>\n",
       "      <th>Close</th>\n",
       "      <th>Adj Close</th>\n",
       "      <th>Volume</th>\n",
       "    </tr>\n",
       "  </thead>\n",
       "  <tbody>\n",
       "    <tr>\n",
       "      <th>count</th>\n",
       "      <td>1787.000000</td>\n",
       "      <td>1787.000000</td>\n",
       "      <td>1787.000000</td>\n",
       "      <td>1787.000000</td>\n",
       "      <td>1787.000000</td>\n",
       "      <td>1.787000e+03</td>\n",
       "    </tr>\n",
       "    <tr>\n",
       "      <th>mean</th>\n",
       "      <td>1120.771540</td>\n",
       "      <td>1157.597942</td>\n",
       "      <td>1078.751618</td>\n",
       "      <td>1121.097509</td>\n",
       "      <td>1121.097509</td>\n",
       "      <td>1.302386e+10</td>\n",
       "    </tr>\n",
       "    <tr>\n",
       "      <th>std</th>\n",
       "      <td>1217.790651</td>\n",
       "      <td>1255.085058</td>\n",
       "      <td>1174.537770</td>\n",
       "      <td>1217.156478</td>\n",
       "      <td>1217.156478</td>\n",
       "      <td>1.092081e+10</td>\n",
       "    </tr>\n",
       "    <tr>\n",
       "      <th>min</th>\n",
       "      <td>84.279694</td>\n",
       "      <td>85.342743</td>\n",
       "      <td>82.829887</td>\n",
       "      <td>84.308296</td>\n",
       "      <td>84.308296</td>\n",
       "      <td>6.217330e+08</td>\n",
       "    </tr>\n",
       "    <tr>\n",
       "      <th>25%</th>\n",
       "      <td>207.139893</td>\n",
       "      <td>211.803505</td>\n",
       "      <td>201.895653</td>\n",
       "      <td>207.120842</td>\n",
       "      <td>207.120842</td>\n",
       "      <td>4.226111e+09</td>\n",
       "    </tr>\n",
       "    <tr>\n",
       "      <th>50%</th>\n",
       "      <td>462.604004</td>\n",
       "      <td>473.578857</td>\n",
       "      <td>448.640991</td>\n",
       "      <td>462.960541</td>\n",
       "      <td>462.960541</td>\n",
       "      <td>1.092937e+10</td>\n",
       "    </tr>\n",
       "    <tr>\n",
       "      <th>75%</th>\n",
       "      <td>1818.302368</td>\n",
       "      <td>1861.165832</td>\n",
       "      <td>1750.569824</td>\n",
       "      <td>1817.460389</td>\n",
       "      <td>1817.460389</td>\n",
       "      <td>1.834015e+10</td>\n",
       "    </tr>\n",
       "    <tr>\n",
       "      <th>max</th>\n",
       "      <td>4810.071289</td>\n",
       "      <td>4891.704590</td>\n",
       "      <td>4718.039063</td>\n",
       "      <td>4812.087402</td>\n",
       "      <td>4812.087402</td>\n",
       "      <td>8.448291e+10</td>\n",
       "    </tr>\n",
       "  </tbody>\n",
       "</table>\n",
       "</div>"
      ],
      "text/plain": [
       "              Open         High          Low        Close    Adj Close  \\\n",
       "count  1787.000000  1787.000000  1787.000000  1787.000000  1787.000000   \n",
       "mean   1120.771540  1157.597942  1078.751618  1121.097509  1121.097509   \n",
       "std    1217.790651  1255.085058  1174.537770  1217.156478  1217.156478   \n",
       "min      84.279694    85.342743    82.829887    84.308296    84.308296   \n",
       "25%     207.139893   211.803505   201.895653   207.120842   207.120842   \n",
       "50%     462.604004   473.578857   448.640991   462.960541   462.960541   \n",
       "75%    1818.302368  1861.165832  1750.569824  1817.460389  1817.460389   \n",
       "max    4810.071289  4891.704590  4718.039063  4812.087402  4812.087402   \n",
       "\n",
       "             Volume  \n",
       "count  1.787000e+03  \n",
       "mean   1.302386e+10  \n",
       "std    1.092081e+10  \n",
       "min    6.217330e+08  \n",
       "25%    4.226111e+09  \n",
       "50%    1.092937e+10  \n",
       "75%    1.834015e+10  \n",
       "max    8.448291e+10  "
      ]
     },
     "execution_count": 5,
     "metadata": {},
     "output_type": "execute_result"
    }
   ],
   "source": [
    "# Statistik Deskriptif Data\n",
    "eth.describe()"
   ]
  },
  {
   "cell_type": "markdown",
   "metadata": {
    "id": "Ry4eoxH3xPQi"
   },
   "source": [
    "**MENGECEK MISSING VALUE**"
   ]
  },
  {
   "cell_type": "code",
   "execution_count": 6,
   "metadata": {
    "colab": {
     "base_uri": "https://localhost:8080/"
    },
    "id": "xCE1J0zwsaV1",
    "outputId": "8109eb7f-d782-49a3-8945-5e22bb3856fe"
   },
   "outputs": [
    {
     "data": {
      "text/plain": [
       "Date         0\n",
       "Open         0\n",
       "High         0\n",
       "Low          0\n",
       "Close        0\n",
       "Adj Close    0\n",
       "Volume       0\n",
       "dtype: int64"
      ]
     },
     "execution_count": 6,
     "metadata": {},
     "output_type": "execute_result"
    }
   ],
   "source": [
    "# Cek missing value\n",
    "eth.isnull().sum()"
   ]
  },
  {
   "cell_type": "markdown",
   "metadata": {
    "id": "aWOEWGsOxYd5"
   },
   "source": [
    "**KORELASI ANTAR VARIABEL**"
   ]
  },
  {
   "cell_type": "markdown",
   "metadata": {
    "id": "lZySKNYhxbp2"
   },
   "source": [
    "Variabel numerik yang digunakan adalah harga penutupan (close), close dipilih karena mencerminkan semua informasi yang \n",
    "terjadi pada pelaku pasar pada saat perdagangan aset kripto tersebut berakhir dan dapat menjadi acuan untuk harga pembukaan (open) dihari berikutnya."
   ]
  },
  {
   "cell_type": "code",
   "execution_count": 7,
   "metadata": {
    "colab": {
     "base_uri": "https://localhost:8080/"
    },
    "id": "r4ZYsvkosaYO",
    "outputId": "426e25c7-2857-493c-8530-de3919ac9217"
   },
   "outputs": [
    {
     "data": {
      "text/plain": [
       "Close        1.000000\n",
       "Adj Close    1.000000\n",
       "Low          0.998934\n",
       "High         0.998891\n",
       "Open         0.997810\n",
       "Volume       0.546393\n",
       "Name: Close, dtype: float64"
      ]
     },
     "execution_count": 7,
     "metadata": {},
     "output_type": "execute_result"
    }
   ],
   "source": [
    "# Nilai Korelasi Variabel\n",
    "corr_matrix = eth.corr()\n",
    "corr_matrix['Close'].sort_values(ascending = False)"
   ]
  },
  {
   "cell_type": "markdown",
   "metadata": {
    "id": "JyTpU5A4x0ed"
   },
   "source": [
    "**4. DATA PREPARATION**"
   ]
  },
  {
   "cell_type": "markdown",
   "metadata": {
    "id": "8ESuTWLsx-KC"
   },
   "source": [
    "**TRANSFORMASI DAN SCALING DATA**"
   ]
  },
  {
   "cell_type": "markdown",
   "metadata": {
    "id": "EW1b-HGW15G-"
   },
   "source": [
    "\n",
    "\n",
    "*   Merubah tipe data menjadi float32 agar semua data memiliki keseragaman yang sama, dalam hal ini float32 mampu menyimpan data dengan ketelitian 7-8 angka dibelakang koma.\n",
    "\n",
    "\n",
    "*   Proses normalisasi data menggunakan MinMaxScaller, agar data memiliki range nilai antara 0-1.\n",
    "\n"
   ]
  },
  {
   "cell_type": "code",
   "execution_count": 8,
   "metadata": {
    "id": "P-ZAUSWcsaae"
   },
   "outputs": [],
   "source": [
    "# Filter 'Close' colums sebagai numerik variabel\n",
    "\n",
    "eth = eth.filter(['Close'])\n",
    "dataset = eth.values\n",
    "dataset = dataset.astype('float32')"
   ]
  },
  {
   "cell_type": "code",
   "execution_count": 9,
   "metadata": {
    "colab": {
     "base_uri": "https://localhost:8080/"
    },
    "id": "4Sfl0CbOrk4d",
    "outputId": "cce0b5cc-20e5-430c-b7c6-b81f02660966"
   },
   "outputs": [
    {
     "data": {
      "text/plain": [
       "array([[0.0500395 ],\n",
       "       [0.0454642 ],\n",
       "       [0.04872746],\n",
       "       ...,\n",
       "       [0.26505098],\n",
       "       [0.264679  ],\n",
       "       [0.26305592]], dtype=float32)"
      ]
     },
     "execution_count": 9,
     "metadata": {},
     "output_type": "execute_result"
    }
   ],
   "source": [
    "# Normalisasi dataset dengan MinMaxScaler\n",
    "\n",
    "scaler = MinMaxScaler()\n",
    "scaler = scaler.fit(dataset)\n",
    "scaled_df = scaler.transform(dataset)\n",
    "scaled_df"
   ]
  },
  {
   "cell_type": "markdown",
   "metadata": {
    "id": "0IsU-W_byEJm"
   },
   "source": [
    "**DATA SPLITTING**"
   ]
  },
  {
   "cell_type": "markdown",
   "metadata": {
    "id": "bu8F_R4gyIsO"
   },
   "source": [
    "*Melakukan Split data for training dan testing.*"
   ]
  },
  {
   "cell_type": "code",
   "execution_count": 10,
   "metadata": {
    "colab": {
     "base_uri": "https://localhost:8080/"
    },
    "id": "7Py02IL7rk7T",
    "outputId": "30137969-9b95-4db1-ff0f-4b67fafdd253"
   },
   "outputs": [
    {
     "name": "stdout",
     "output_type": "stream",
     "text": [
      "Train Shape = (1429, 1)\n",
      "Test Shape = (358, 1)\n"
     ]
    }
   ],
   "source": [
    "# Data Splitting\n",
    "\n",
    "def split_data(eth, timesteps = 1):\n",
    "    X = []\n",
    "    Y = []\n",
    "    for i in range(len(eth)-timesteps-1):\n",
    "        a = eth[i:(i+timesteps), 0]\n",
    "        X.append(a)\n",
    "        Y.append(eth[i + timesteps, 0])\n",
    "    return np.array(X), np.array(Y)\n",
    "\n",
    "# Split size data for Training and Testing \n",
    "train_size = int(len(eth) * 0.80)\n",
    "test_size = len(eth) - train_size\n",
    "\n",
    "# Create shape data 2d \n",
    "training_df = scaled_df[0:train_size,:]\n",
    "testing_df =  scaled_df[train_size:len(eth),:]\n",
    " \n",
    "print('Train Shape = {0}'.format(training_df.shape))\n",
    "print('Test Shape = {0}'.format(testing_df.shape))"
   ]
  },
  {
   "cell_type": "markdown",
   "metadata": {
    "id": "6svaO9ZtyPKN"
   },
   "source": [
    "*Merubah format data menjadi: (n_samples, timesteps, n_features) for LSTM n BiLSTM arsitektur.*"
   ]
  },
  {
   "cell_type": "code",
   "execution_count": 11,
   "metadata": {
    "colab": {
     "base_uri": "https://localhost:8080/"
    },
    "id": "aBRg8ILes1pj",
    "outputId": "6cb7ff7d-2371-4679-a753-43e784daa80a"
   },
   "outputs": [
    {
     "name": "stdout",
     "output_type": "stream",
     "text": [
      "Train Shape = (1427, 1, 1)\n",
      "Test Shape = (356, 1, 1)\n"
     ]
    }
   ],
   "source": [
    "# Reshape data kedalam bentuk 3D \n",
    "\n",
    "X_train, Y_train = split_data(training_df)\n",
    "X_test, Y_test = split_data(testing_df)\n",
    "\n",
    "# Membuat format shape data menjadi : (n_samples x timesteps x n_features)\n",
    "X_train = np.reshape(X_train, (X_train.shape[0], X_train.shape[1], eth.shape[1]))\n",
    "X_test = np.reshape(X_test, (X_test.shape[0], X_test.shape[1], eth.shape[1]))\n",
    "\n",
    "print('Train Shape = {0}'.format(X_train.shape))\n",
    "print('Test Shape = {0}'.format(X_test.shape))"
   ]
  },
  {
   "cell_type": "code",
   "execution_count": 12,
   "metadata": {
    "colab": {
     "base_uri": "https://localhost:8080/",
     "height": 458
    },
    "id": "fO0LGQaWs1sS",
    "outputId": "fb8fd641-a758-41d8-dbb3-51fe33f994e6"
   },
   "outputs": [
    {
     "data": {
      "image/png": "[encoded data removed]",
      "text/plain": [
       "<Figure size 1152x504 with 1 Axes>"
      ]
     },
     "metadata": {
      "needs_background": "light"
     },
     "output_type": "display_data"
    }
   ],
   "source": [
    "# Plotting Training and Testing data\n",
    "\n",
    "plt.figure(figsize=(16, 7))\n",
    "\n",
    "plt.plot(np.arange(training_df.shape[0]), training_df, color='blue', label='Training')\n",
    "\n",
    "plt.plot(np.arange(training_df.shape[0], training_df.shape[0]+testing_df.shape[0]), testing_df,\n",
    "         color='orange', label='Testing')\n",
    "\n",
    "plt.title('Data Splitting')\n",
    "plt.xlabel('Days')\n",
    "plt.ylabel('Harga Normalisasi')\n",
    "plt.legend(loc='best');"
   ]
  },
  {
   "cell_type": "markdown",
   "metadata": {
    "id": "6tjS_VBoySKX"
   },
   "source": [
    "**5. MODELING**"
   ]
  },
  {
   "cell_type": "markdown",
   "metadata": {
    "id": "PV2UCZMyyW6W"
   },
   "source": [
    "**Modeling by LSTM**"
   ]
  },
  {
   "cell_type": "markdown",
   "metadata": {
    "id": "E0ZOoTEAyZi7"
   },
   "source": [
    "*Layer dalam arsitektur Deep Learning secara konvensional terdiri dari layer Input Layer, Hidden Layer dan Output Layer* "
   ]
  },
  {
   "cell_type": "code",
   "execution_count": 13,
   "metadata": {
    "id": "7Ie5nRCZuNaz"
   },
   "outputs": [],
   "source": [
    "# Default jumlah learning rate untuk adam 0.001\n",
    "Adam = Adam(learning_rate = 0.001)"
   ]
  },
  {
   "cell_type": "code",
   "execution_count": 14,
   "metadata": {
    "id": "24nONTcPs1xW"
   },
   "outputs": [],
   "source": [
    "# Inisiasi Hyper parameter\n",
    "# Neuron hidden layer, epoch dan batch size\n",
    "\n",
    "layers = {'hidden':5}\n",
    "num_epoch = 15\n",
    "num_batch = 32\n",
    "\n",
    "# Inisialisasi layer Algoritma LSTM \n",
    "model_LSTM = Sequential()# Urutan Arsitektur\n",
    "model_LSTM.add(LSTM(4,\n",
    "                                    activation = 'tanh',\n",
    "                                    recurrent_activation = 'sigmoid',\n",
    "                                    return_sequences = True,\n",
    "                                    input_shape = (X_train.shape[1], X_train.shape[2])))\n",
    "model_LSTM.add(Dropout(0.1))\n",
    "\n",
    "model_LSTM.add(LSTM(layers['hidden'],\n",
    "                                    activation = 'tanh',\n",
    "                                    recurrent_activation = 'sigmoid',\n",
    "                                    return_sequences = False))\n",
    "\n",
    "model_LSTM.add(Dropout(0.1))\n",
    "model_LSTM.add(Dense(1, \n",
    "                     bias_initializer='zeros'))"
   ]
  },
  {
   "cell_type": "code",
   "execution_count": 15,
   "metadata": {
    "colab": {
     "base_uri": "https://localhost:8080/"
    },
    "id": "h1_KOoPUs1zy",
    "outputId": "146c9eed-2399-4365-ec12-25432c8be7e3"
   },
   "outputs": [
    {
     "name": "stdout",
     "output_type": "stream",
     "text": [
      "Epoch 1/15\n",
      "41/41 [==============================] - 3s 15ms/step - loss: 0.0176 - MAPE: 36645.4219 - val_loss: 0.2328 - val_MAPE: 82.7833\n",
      "Epoch 2/15\n",
      "41/41 [==============================] - 0s 2ms/step - loss: 0.0144 - MAPE: 69240.5156 - val_loss: 0.2027 - val_MAPE: 76.8108\n",
      "Epoch 3/15\n",
      "41/41 [==============================] - 0s 2ms/step - loss: 0.0133 - MAPE: 73622.5078 - val_loss: 0.1903 - val_MAPE: 74.4266\n",
      "Epoch 4/15\n",
      "41/41 [==============================] - 0s 2ms/step - loss: 0.0123 - MAPE: 60697.9922 - val_loss: 0.1727 - val_MAPE: 70.8569\n",
      "Epoch 5/15\n",
      "41/41 [==============================] - 0s 3ms/step - loss: 0.0112 - MAPE: 64958.0312 - val_loss: 0.1533 - val_MAPE: 66.7785\n",
      "Epoch 6/15\n",
      "41/41 [==============================] - 0s 2ms/step - loss: 0.0099 - MAPE: 48486.4609 - val_loss: 0.1271 - val_MAPE: 60.8151\n",
      "Epoch 7/15\n",
      "41/41 [==============================] - 0s 2ms/step - loss: 0.0076 - MAPE: 45856.3008 - val_loss: 0.0918 - val_MAPE: 51.6790\n",
      "Epoch 8/15\n",
      "41/41 [==============================] - 0s 2ms/step - loss: 0.0049 - MAPE: 40479.2695 - val_loss: 0.0524 - val_MAPE: 38.8502\n",
      "Epoch 9/15\n",
      "41/41 [==============================] - 0s 2ms/step - loss: 0.0032 - MAPE: 28687.7285 - val_loss: 0.0225 - val_MAPE: 25.1594\n",
      "Epoch 10/15\n",
      "41/41 [==============================] - 0s 2ms/step - loss: 0.0020 - MAPE: 14589.9629 - val_loss: 0.0078 - val_MAPE: 14.4911\n",
      "Epoch 11/15\n",
      "41/41 [==============================] - 0s 2ms/step - loss: 0.0012 - MAPE: 10441.4727 - val_loss: 0.0029 - val_MAPE: 8.1204\n",
      "Epoch 12/15\n",
      "41/41 [==============================] - 0s 2ms/step - loss: 0.0013 - MAPE: 1323.7843 - val_loss: 0.0017 - val_MAPE: 5.9281\n",
      "Epoch 13/15\n",
      "41/41 [==============================] - 0s 2ms/step - loss: 0.0012 - MAPE: 27984.5195 - val_loss: 0.0014 - val_MAPE: 5.2507\n",
      "Epoch 14/15\n",
      "41/41 [==============================] - 0s 2ms/step - loss: 0.0014 - MAPE: 8140.6924 - val_loss: 0.0014 - val_MAPE: 4.9765\n",
      "Epoch 15/15\n",
      "41/41 [==============================] - 0s 2ms/step - loss: 0.0011 - MAPE: 2874.6428 - val_loss: 0.0016 - val_MAPE: 5.6040\n"
     ]
    }
   ],
   "source": [
    "# Build model and compile\n",
    "model_LSTM.compile(optimizer = Adam,\n",
    "                   loss = 'mse', \n",
    "                   metrics=('MAPE')\n",
    "                  )\n",
    "\n",
    "# Melatih model dengan menggunakan set data Training\n",
    "ETH_LSTM = model_LSTM.fit(X_train, Y_train,\n",
    "                        validation_split=0.1,\n",
    "                        epochs = num_epoch,\n",
    "                        batch_size = num_batch,\n",
    "                        verbose=1)"
   ]
  },
  {
   "cell_type": "markdown",
   "metadata": {
    "id": "7wi-zT_ByemO"
   },
   "source": [
    "**Modeling by Bi-LSTM**"
   ]
  },
  {
   "cell_type": "code",
   "execution_count": 16,
   "metadata": {
    "id": "sql3pog3s12T"
   },
   "outputs": [],
   "source": [
    "# Hyper parameter\n",
    "# Neuron hidden layer, jumlah epoch dan batch size\n",
    "\n",
    "\n",
    "layers = {'hidden':5}\n",
    "num_epoch = 15\n",
    "num_batch = 32\n",
    "\n",
    "# Inisialiasi model algortima BiLSTM\n",
    "model_BiLSTM = Sequential()\n",
    "model_BiLSTM.add(Bidirectional(LSTM(4, \n",
    "                                    activation = 'tanh',\n",
    "                                    recurrent_activation = 'sigmoid',\n",
    "                                    return_sequences = True,\n",
    "                                    input_shape=(X_train.shape[1], X_train.shape[2]))))\n",
    "model_BiLSTM.add(Dropout(0.1))\n",
    "\n",
    "model_BiLSTM.add(Bidirectional(LSTM(layers['hidden'],\n",
    "                                    activation = 'tanh',\n",
    "                                    recurrent_activation = 'sigmoid',\n",
    "                                    return_sequences = False)))\n",
    "\n",
    "model_BiLSTM.add(Dropout(0.1))\n",
    "model_BiLSTM.add(Dense(1, \n",
    "                       bias_initializer='zeros'))"
   ]
  },
  {
   "cell_type": "code",
   "execution_count": 17,
   "metadata": {
    "colab": {
     "base_uri": "https://localhost:8080/"
    },
    "id": "THKTPcJws14m",
    "outputId": "427a8c9a-3e6a-4e5a-deea-863a13b92820"
   },
   "outputs": [
    {
     "name": "stdout",
     "output_type": "stream",
     "text": [
      "Epoch 1/15\n",
      "41/41 [==============================] - 6s 26ms/step - loss: 0.0153 - MAPE: 65493.8203 - val_loss: 0.1767 - val_MAPE: 72.0755\n",
      "Epoch 2/15\n",
      "41/41 [==============================] - 0s 3ms/step - loss: 0.0085 - MAPE: 50700.6719 - val_loss: 0.0507 - val_MAPE: 38.8658\n",
      "Epoch 3/15\n",
      "41/41 [==============================] - 0s 3ms/step - loss: 0.0020 - MAPE: 11733.5557 - val_loss: 0.0025 - val_MAPE: 6.4811\n",
      "Epoch 4/15\n",
      "41/41 [==============================] - 0s 2ms/step - loss: 7.5909e-04 - MAPE: 14599.1865 - val_loss: 0.0019 - val_MAPE: 5.9111\n",
      "Epoch 5/15\n",
      "41/41 [==============================] - 0s 2ms/step - loss: 6.4718e-04 - MAPE: 3592.2678 - val_loss: 0.0018 - val_MAPE: 5.6871\n",
      "Epoch 6/15\n",
      "41/41 [==============================] - 0s 2ms/step - loss: 8.4778e-04 - MAPE: 14421.3408 - val_loss: 0.0016 - val_MAPE: 5.6284\n",
      "Epoch 7/15\n",
      "41/41 [==============================] - 0s 2ms/step - loss: 7.2745e-04 - MAPE: 7844.3584 - val_loss: 0.0022 - val_MAPE: 5.9912\n",
      "Epoch 8/15\n",
      "41/41 [==============================] - 0s 2ms/step - loss: 7.5676e-04 - MAPE: 5724.0356 - val_loss: 0.0017 - val_MAPE: 5.4015\n",
      "Epoch 9/15\n",
      "41/41 [==============================] - 0s 2ms/step - loss: 6.8895e-04 - MAPE: 3590.7119 - val_loss: 0.0023 - val_MAPE: 6.0816\n",
      "Epoch 10/15\n",
      "41/41 [==============================] - 0s 4ms/step - loss: 6.0446e-04 - MAPE: 697.8224 - val_loss: 0.0019 - val_MAPE: 5.5441\n",
      "Epoch 11/15\n",
      "41/41 [==============================] - 0s 4ms/step - loss: 6.5332e-04 - MAPE: 20192.1074 - val_loss: 0.0017 - val_MAPE: 5.8883\n",
      "Epoch 12/15\n",
      "41/41 [==============================] - 0s 4ms/step - loss: 5.7610e-04 - MAPE: 15795.4268 - val_loss: 0.0015 - val_MAPE: 5.1228\n",
      "Epoch 13/15\n",
      "41/41 [==============================] - 0s 4ms/step - loss: 7.2906e-04 - MAPE: 13477.1543 - val_loss: 0.0014 - val_MAPE: 5.1183\n",
      "Epoch 14/15\n",
      "41/41 [==============================] - 0s 2ms/step - loss: 4.9310e-04 - MAPE: 5299.9624 - val_loss: 0.0014 - val_MAPE: 5.0146\n",
      "Epoch 15/15\n",
      "41/41 [==============================] - 0s 2ms/step - loss: 6.6500e-04 - MAPE: 4966.9648 - val_loss: 0.0017 - val_MAPE: 5.2193\n"
     ]
    }
   ],
   "source": [
    "# Build model compiler\n",
    "model_BiLSTM.compile(loss='mse', \n",
    "                     optimizer=Adam, \n",
    "#                    metrics=[RootMeanSquaredError()]\n",
    "                     metrics=('MAPE')\n",
    "                    )\n",
    "\n",
    "# Melatih model dengan menggunakan set data Training\n",
    "ETH_BiLSTM = model_BiLSTM.fit(X_train, Y_train,\n",
    "                              validation_split=0.1,\n",
    "                              epochs= num_epoch, \n",
    "                              batch_size= num_batch, \n",
    "                              verbose=1)"
   ]
  },
  {
   "cell_type": "markdown",
   "metadata": {
    "id": "LnPpd_kPyiUZ"
   },
   "source": [
    "**LOSS VISUALIZATION**"
   ]
  },
  {
   "cell_type": "code",
   "execution_count": 18,
   "metadata": {
    "colab": {
     "base_uri": "https://localhost:8080/",
     "height": 350
    },
    "id": "kpuvwIDgs17G",
    "outputId": "fb56d688-293c-468c-8553-cefa0f527546"
   },
   "outputs": [
    {
     "data": {
      "image/png": "[encoded data removed]",
      "text/plain": [
       "<Figure size 1080x360 with 2 Axes>"
      ]
     },
     "metadata": {
      "needs_background": "light"
     },
     "output_type": "display_data"
    }
   ],
   "source": [
    "# loss Visualization LSTM n BiLSTM\n",
    "loss_LSTM = ETH_LSTM.history['loss']\n",
    "val_loss_LSTM = ETH_LSTM.history['val_loss']\n",
    "epochs = range(len(loss_LSTM))\n",
    "\n",
    "loss_BiLSTM = ETH_BiLSTM.history['loss']\n",
    "val_loss_BiLSTM = ETH_BiLSTM.history['val_loss']\n",
    "epochs = range(len(loss_BiLSTM))\n",
    "\n",
    "# Plotting figure            \n",
    "plt.figure(figsize = (15,5))\n",
    "\n",
    "# Loss LSTM\n",
    "plt.subplot(1,2,1)\n",
    "plt.plot(epochs, loss_LSTM, 'b', label='Training loss')\n",
    "plt.plot(epochs, val_loss_LSTM, 'r', label='Validation loss')\n",
    "plt.title(\"Loss Visualization LSTM\")\n",
    "plt.legend(['Training Loss','Validation Loss'], loc = 'best')\n",
    "plt.xlabel('Epoch')\n",
    "plt.ylabel('Loss')\n",
    "\n",
    "# Loss BiLSTM\n",
    "plt.subplot(1,2,2)\n",
    "plt.plot(epochs, loss_BiLSTM, 'b', label='Training loss')\n",
    "plt.plot(epochs, val_loss_BiLSTM, 'r', label='Validation loss')\n",
    "plt.title(\"Loss Visualization Bi-LSTM\")\n",
    "plt.legend(['Training Loss','Validation Loss'], loc = 'best')\n",
    "plt.xlabel('Epoch')\n",
    "plt.ylabel('Loss')\n",
    "plt.show()"
   ]
  },
  {
   "cell_type": "markdown",
   "metadata": {
    "id": "AsKXP4tLynmZ"
   },
   "source": [
    "**7. MODEL EVALUATION**"
   ]
  },
  {
   "cell_type": "code",
   "execution_count": 19,
   "metadata": {
    "id": "28zP5Tz8s19s"
   },
   "outputs": [],
   "source": [
    "# Mendifiniskan data hasil pemodelan LSTM dan BiLSTM \n",
    "train_LSTM = model_LSTM.predict(X_train,verbose=0)\n",
    "test_LSTM = model_LSTM.predict(X_test,verbose=0)\n",
    "train_BiLSTM = model_BiLSTM.predict(X_train,verbose=0)\n",
    "test_BiLSTM = model_BiLSTM.predict(X_test,verbose=0)"
   ]
  },
  {
   "cell_type": "code",
   "execution_count": 20,
   "metadata": {
    "colab": {
     "base_uri": "https://localhost:8080/"
    },
    "id": "fUFJG41hs1_t",
    "outputId": "e2c3152a-b3f8-4daa-e627-c5d403ccf611"
   },
   "outputs": [
    {
     "name": "stdout",
     "output_type": "stream",
     "text": [
      "LSTM RMSE =  0.0313\n",
      "BiLSTM RMSE = 0.0305\n"
     ]
    }
   ],
   "source": [
    "from sklearn.metrics import mean_squared_error\n",
    "from math import sqrt\n",
    "\n",
    "# Hitung RMSE\n",
    "LSTM_rmse = sqrt(mean_squared_error(Y_test, test_LSTM))\n",
    "BiLSTM_rmse = sqrt(mean_squared_error(Y_test, test_BiLSTM))\n",
    "\n",
    "print('LSTM RMSE = ' , round(LSTM_rmse,4))\n",
    "print('BiLSTM RMSE =',  round(BiLSTM_rmse,4))"
   ]
  },
  {
   "cell_type": "code",
   "execution_count": 21,
   "metadata": {
    "colab": {
     "base_uri": "https://localhost:8080/"
    },
    "id": "2xHS3o1Trk9y",
    "outputId": "1180fe6a-e057-4af7-978d-3154d9e525cf"
   },
   "outputs": [
    {
     "name": "stdout",
     "output_type": "stream",
     "text": [
      "12/12 [==============================] - 0s 1ms/step - loss: 9.7864e-04 - MAPE: 5.2122\n",
      "12/12 [==============================] - 0s 1ms/step - loss: 9.2890e-04 - MAPE: 4.5819\n"
     ]
    }
   ],
   "source": [
    "# Mean Absolute Percentage Error (MAPE)\n",
    "LSTM_loss = model_LSTM.evaluate(X_test,Y_test)\n",
    "BiLSTM_loss = model_BiLSTM.evaluate(X_test,Y_test)"
   ]
  },
  {
   "cell_type": "markdown",
   "metadata": {
    "id": "BCWM2N8CyuEG"
   },
   "source": [
    "**LSTM-BiLSTM Forecasting**"
   ]
  },
  {
   "cell_type": "code",
   "execution_count": 22,
   "metadata": {
    "colab": {
     "base_uri": "https://localhost:8080/",
     "height": 495
    },
    "id": "K7w-aWO2tJvd",
    "outputId": "769c1e8f-b8ee-46e9-cdf9-9040d91f1f34"
   },
   "outputs": [
    {
     "name": "stdout",
     "output_type": "stream",
     "text": [
      "12/12 [==============================] - 0s 816us/step\n",
      "12/12 [==============================] - 0s 997us/step\n"
     ]
    },
    {
     "data": {
      "image/png": "[encoded data removed]",
      "text/plain": [
       "<Figure size 1080x504 with 1 Axes>"
      ]
     },
     "metadata": {
      "needs_background": "light"
     },
     "output_type": "display_data"
    }
   ],
   "source": [
    "# Visualisasi data by matplotlib\n",
    "\n",
    "plot_LSTM = model_LSTM.predict(X_test)\n",
    "plot_BiLSTM = model_BiLSTM.predict(X_test)\n",
    "\n",
    "plt.figure(figsize=(15,7))\n",
    "plt.plot(Y_test, color = 'blue', label = 'Hasil Sebenarnya')\n",
    "plt.plot(plot_LSTM, color = 'red', label = 'Hasil Prediksi LSTM')\n",
    "plt.plot(plot_BiLSTM, color = 'lime', label = 'Hasil Prediksi BiLSTM')\n",
    "plt.title('Model LSTM v BiLSTM', fontsize=14)\n",
    "\n",
    "plt.xlabel('Days')\n",
    "plt.ylabel('Close Price')\n",
    "plt.legend()\n",
    "plt.show()"
   ]
  },
  {
   "cell_type": "markdown",
   "metadata": {
    "id": "XRZa3ILVyzpn"
   },
   "source": [
    "**FUTURE FORECASTING**"
   ]
  },
  {
   "cell_type": "code",
   "execution_count": 23,
   "metadata": {
    "colab": {
     "base_uri": "https://localhost:8080/"
    },
    "id": "0j1m0Bo5tJyi",
    "outputId": "5fb93260-d50c-4285-c9ec-990e6e90cc90"
   },
   "outputs": [
    {
     "name": "stdout",
     "output_type": "stream",
     "text": [
      "1/1 [==============================] - 0s 13ms/step\n"
     ]
    }
   ],
   "source": [
    "# Future Forecasting, Call Model and List date\n",
    "future_day = 10\n",
    "dates_period = pd.date_range(list(date_df)[-1], periods=future_day, freq='1d').tolist()\n",
    "future_model = model_BiLSTM.predict(X_test[-future_day:])"
   ]
  },
  {
   "cell_type": "code",
   "execution_count": 24,
   "metadata": {
    "colab": {
     "base_uri": "https://localhost:8080/"
    },
    "id": "uukOemX6tJ1T",
    "outputId": "f0c9621b-0ee9-479e-ecf4-3c10f898f042"
   },
   "outputs": [
    {
     "data": {
      "text/plain": [
       "(10, 1)"
      ]
     },
     "execution_count": 24,
     "metadata": {},
     "output_type": "execute_result"
    }
   ],
   "source": [
    "# Inverse dan transform data forecast\n",
    "forecast = np.repeat(future_model,X_test.shape[2],axis=1)\n",
    "target = scaler.inverse_transform(forecast)[:,0]\n",
    "\n",
    "forecast.shape"
   ]
  },
  {
   "cell_type": "code",
   "execution_count": 25,
   "metadata": {
    "id": "e8Hi13EStJ3x"
   },
   "outputs": [],
   "source": [
    "# Create future forecast\n",
    "forecast_future = []\n",
    "for time_i in dates_period:\n",
    "    forecast_future.append(time_i.date())\n",
    "    len(forecast_future)\n",
    "    \n",
    "forecast_df= pd.DataFrame({'Date':np.array(forecast_future), 'Close':target})\n",
    "forecast_df['Date']=pd.to_datetime(forecast_df['Date'])"
   ]
  },
  {
   "cell_type": "code",
   "execution_count": 26,
   "metadata": {
    "colab": {
     "base_uri": "https://localhost:8080/",
     "height": 458
    },
    "id": "qGOrn028tJ6Q",
    "outputId": "006f83cc-fbfc-449a-fbe4-1382f71167b9"
   },
   "outputs": [
    {
     "data": {
      "image/png": "[encoded data removed]",
      "text/plain": [
       "<Figure size 1080x504 with 1 Axes>"
      ]
     },
     "metadata": {
      "needs_background": "light"
     },
     "output_type": "display_data"
    }
   ],
   "source": [
    "# Plotting data aktual dan hasil prediksi\n",
    "eth = pd.read_csv(\"ETH-30-SEP-2022.csv\")\n",
    "actual = eth[['Date', 'Close']]\n",
    "actual['Date']=pd.to_datetime(actual['Date'])\n",
    "actual = actual.loc[actual['Date'] >= '2022-07-01'] # Year-Month-Day\n",
    "\n",
    "# PLot Data\n",
    "plt.figure(figsize=(15,7))\n",
    "plt.plot(actual['Date'], actual['Close'], label='Actual', color='b')\n",
    "plt.plot(forecast_df['Date'], forecast_df['Close'], label='Future Predict', color='orange')\n",
    "plt.title('Best Modeling by BiLSTM', fontsize=13)\n",
    "plt.ylabel('Price')\n",
    "plt.xlabel('Date')\n",
    "plt.legend(loc='best')\n",
    "plt.show()"
   ]
  },
  {
   "cell_type": "code",
   "execution_count": 27,
   "metadata": {
    "id": "lntRLXHqtJ8x"
   },
   "outputs": [],
   "source": [
    "# Save data hasil prediksi\n",
    "forecast_df = forecast_df.set_index('Date')\n",
    "forecast_df.to_csv('FUTURE_DATAFRAME.csv')"
   ]
  },
  {
   "cell_type": "code",
   "execution_count": 28,
   "metadata": {
    "id": "V6Z58GgotJ_T"
   },
   "outputs": [],
   "source": [
    "# Select attribut forecast for data comparison\n",
    "forecast_df = forecast_df.filter(['Close'])\n",
    "predict = forecast_df.values\n",
    "predict = predict.astype('float32')"
   ]
  },
  {
   "cell_type": "code",
   "execution_count": 29,
   "metadata": {
    "id": "PDXD53kutKBy"
   },
   "outputs": [],
   "source": [
    "# Read and select attribut actual for data comparison\n",
    "original_df = pd.read_csv(\"ETH-OKT-10DAY.csv\")\n",
    "original_df = original_df.filter(['Close'])\n",
    "ori = original_df.values\n",
    "ori = ori.astype('float32')"
   ]
  },
  {
   "cell_type": "code",
   "execution_count": 30,
   "metadata": {
    "id": "VQ-gBJHc08GU"
   },
   "outputs": [],
   "source": [
    "# Create new df ori n predict\n",
    "actual = pd.DataFrame(ori)\n",
    "f_forecast = pd.DataFrame(predict)"
   ]
  },
  {
   "cell_type": "code",
   "execution_count": 31,
   "metadata": {
    "colab": {
     "base_uri": "https://localhost:8080/",
     "height": 206
    },
    "id": "aCKVjAT8tYyy",
    "outputId": "63e887b0-9b55-4d27-dd21-9d6ac24f95fc"
   },
   "outputs": [
    {
     "data": {
      "text/html": [
       "<div>\n",
       "<style scoped>\n",
       "    .dataframe tbody tr th:only-of-type {\n",
       "        vertical-align: middle;\n",
       "    }\n",
       "\n",
       "    .dataframe tbody tr th {\n",
       "        vertical-align: top;\n",
       "    }\n",
       "\n",
       "    .dataframe thead th {\n",
       "        text-align: right;\n",
       "    }\n",
       "</style>\n",
       "<table border=\"1\" class=\"dataframe\">\n",
       "  <thead>\n",
       "    <tr style=\"text-align: right;\">\n",
       "      <th></th>\n",
       "      <th>Aktual</th>\n",
       "      <th>Prediksi</th>\n",
       "    </tr>\n",
       "  </thead>\n",
       "  <tbody>\n",
       "    <tr>\n",
       "      <th>0</th>\n",
       "      <td>1311.644409</td>\n",
       "      <td>1316.764282</td>\n",
       "    </tr>\n",
       "    <tr>\n",
       "      <th>1</th>\n",
       "      <td>1276.093506</td>\n",
       "      <td>1261.166870</td>\n",
       "    </tr>\n",
       "    <tr>\n",
       "      <th>2</th>\n",
       "      <td>1323.439209</td>\n",
       "      <td>1186.615845</td>\n",
       "    </tr>\n",
       "    <tr>\n",
       "      <th>3</th>\n",
       "      <td>1362.126587</td>\n",
       "      <td>1264.600830</td>\n",
       "    </tr>\n",
       "    <tr>\n",
       "      <th>4</th>\n",
       "      <td>1352.837158</td>\n",
       "      <td>1265.205200</td>\n",
       "    </tr>\n",
       "  </tbody>\n",
       "</table>\n",
       "</div>"
      ],
      "text/plain": [
       "        Aktual     Prediksi\n",
       "0  1311.644409  1316.764282\n",
       "1  1276.093506  1261.166870\n",
       "2  1323.439209  1186.615845\n",
       "3  1362.126587  1264.600830\n",
       "4  1352.837158  1265.205200"
      ]
     },
     "execution_count": 31,
     "metadata": {},
     "output_type": "execute_result"
    }
   ],
   "source": [
    "# Menyatukan df Actual n Future Forecast\n",
    "df_final = pd.concat([actual, f_forecast], axis=1)\n",
    "df_final.columns = ['Aktual', 'Prediksi']\n",
    "df_final.head()"
   ]
  },
  {
   "cell_type": "code",
   "execution_count": 32,
   "metadata": {
    "colab": {
     "base_uri": "https://localhost:8080/"
    },
    "id": "3zAwT1tJtYv9",
    "outputId": "6424b944-53c8-4a5e-d92e-435367e8f04a"
   },
   "outputs": [
    {
     "name": "stdout",
     "output_type": "stream",
     "text": [
      "Nilai MAPE =  0.049178828\n"
     ]
    }
   ],
   "source": [
    "# Evaluation result Actual v Future Forecast with MAPE\n",
    "from sklearn.metrics import mean_absolute_percentage_error\n",
    "\n",
    "MAPE = (mean_absolute_percentage_error(ori, predict))\n",
    "\n",
    "print('Nilai MAPE = ' ,(MAPE))"
   ]
  },
  {
   "cell_type": "markdown",
   "metadata": {
    "id": "iWlxJZuH1CYi"
   },
   "source": [
    "**CONCLUSION**"
   ]
  },
  {
   "cell_type": "markdown",
   "metadata": {
    "id": "WfV8QEOi1FlJ"
   },
   "source": [
    "Peramalan yang optimal dapat dilihat berdasarkan tingkat kesalahan error model dari RMSE dan MAPE, dalam pengujian ini baik model LSTM / BiLSTM keduanya termasuk kedalam pemodelan yang optimal dalam memprediksi harga Ethreum, namun keduanya memiliki perbedaan tingkat akurasi, perbedaan tingkat akurasi ini nantinya dapat dijadikan sebagai perbandingan untuk mengetahui model mana yang terbaik berdasarkan banyaknya dilakukan pengujian dengan parameter yang berbeda disetiap pengujiannya."
   ]
  }
 ],
 "metadata": {
  "colab": {
   "provenance": []
  },
  "kernelspec": {
   "display_name": "Python 3 (ipykernel)",
   "language": "python",
   "name": "python3"
  },
  "language_info": {
   "codemirror_mode": {
    "name": "ipython",
    "version": 3
   },
   "file_extension": ".py",
   "mimetype": "text/x-python",
   "name": "python",
   "nbconvert_exporter": "python",
   "pygments_lexer": "ipython3",
   "version": "3.9.13"
  }
 },
 "nbformat": 4,
 "nbformat_minor": 1
}
